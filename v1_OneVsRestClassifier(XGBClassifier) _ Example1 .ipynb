{
 "cells": [
  {
   "cell_type": "markdown",
   "metadata": {},
   "source": [
    "### OneVsRestClassifier(XGBClassifier)_Example1"
   ]
  },
  {
   "cell_type": "markdown",
   "metadata": {},
   "source": [
    "### Load the packages"
   ]
  },
  {
   "cell_type": "code",
   "execution_count": 1,
   "metadata": {},
   "outputs": [],
   "source": [
    "import json\n",
    "import pandas as pd\n",
    "import numpy as np\n",
    "\n",
    "from xgboost import XGBClassifier\n",
    "from sklearn.multiclass import OneVsRestClassifier\n",
    "from sklearn.model_selection import train_test_split\n",
    "from sklearn.metrics import accuracy_score\n",
    "from sklearn.metrics import classification_report,confusion_matrix"
   ]
  },
  {
   "cell_type": "markdown",
   "metadata": {},
   "source": [
    "### DATA"
   ]
  },
  {
   "cell_type": "code",
   "execution_count": 2,
   "metadata": {},
   "outputs": [
    {
     "data": {
      "text/html": [
       "<div>\n",
       "<style scoped>\n",
       "    .dataframe tbody tr th:only-of-type {\n",
       "        vertical-align: middle;\n",
       "    }\n",
       "\n",
       "    .dataframe tbody tr th {\n",
       "        vertical-align: top;\n",
       "    }\n",
       "\n",
       "    .dataframe thead th {\n",
       "        text-align: right;\n",
       "    }\n",
       "</style>\n",
       "<table border=\"1\" class=\"dataframe\">\n",
       "  <thead>\n",
       "    <tr style=\"text-align: right;\">\n",
       "      <th></th>\n",
       "      <th>property_type</th>\n",
       "      <th>total_floor_area</th>\n",
       "      <th>number_habitable_rooms</th>\n",
       "      <th>number_heated_rooms</th>\n",
       "      <th>estimated_min_price</th>\n",
       "      <th>estimated_max_price</th>\n",
       "      <th>latitude</th>\n",
       "      <th>longitude</th>\n",
       "      <th>bedrooms</th>\n",
       "    </tr>\n",
       "  </thead>\n",
       "  <tbody>\n",
       "    <tr>\n",
       "      <th>0</th>\n",
       "      <td>Flats/Maisonettes</td>\n",
       "      <td>39.0</td>\n",
       "      <td>1</td>\n",
       "      <td>1</td>\n",
       "      <td>103000</td>\n",
       "      <td>126000</td>\n",
       "      <td>52.164661</td>\n",
       "      <td>-1.856154</td>\n",
       "      <td>0</td>\n",
       "    </tr>\n",
       "    <tr>\n",
       "      <th>1</th>\n",
       "      <td>Flats/Maisonettes</td>\n",
       "      <td>24.0</td>\n",
       "      <td>1</td>\n",
       "      <td>1</td>\n",
       "      <td>36000</td>\n",
       "      <td>44000</td>\n",
       "      <td>52.523281</td>\n",
       "      <td>-2.054445</td>\n",
       "      <td>0</td>\n",
       "    </tr>\n",
       "    <tr>\n",
       "      <th>2</th>\n",
       "      <td>Flats/Maisonettes</td>\n",
       "      <td>25.0</td>\n",
       "      <td>1</td>\n",
       "      <td>1</td>\n",
       "      <td>187000</td>\n",
       "      <td>229000</td>\n",
       "      <td>51.386343</td>\n",
       "      <td>-0.108323</td>\n",
       "      <td>0</td>\n",
       "    </tr>\n",
       "    <tr>\n",
       "      <th>3</th>\n",
       "      <td>Flats/Maisonettes</td>\n",
       "      <td>27.0</td>\n",
       "      <td>1</td>\n",
       "      <td>1</td>\n",
       "      <td>234000</td>\n",
       "      <td>350000</td>\n",
       "      <td>51.416946</td>\n",
       "      <td>-0.151787</td>\n",
       "      <td>2</td>\n",
       "    </tr>\n",
       "    <tr>\n",
       "      <th>4</th>\n",
       "      <td>Flats/Maisonettes</td>\n",
       "      <td>29.0</td>\n",
       "      <td>1</td>\n",
       "      <td>1</td>\n",
       "      <td>185000</td>\n",
       "      <td>277000</td>\n",
       "      <td>52.915728</td>\n",
       "      <td>-1.475258</td>\n",
       "      <td>1</td>\n",
       "    </tr>\n",
       "  </tbody>\n",
       "</table>\n",
       "</div>"
      ],
      "text/plain": [
       "       property_type  total_floor_area  number_habitable_rooms  \\\n",
       "0  Flats/Maisonettes              39.0                       1   \n",
       "1  Flats/Maisonettes              24.0                       1   \n",
       "2  Flats/Maisonettes              25.0                       1   \n",
       "3  Flats/Maisonettes              27.0                       1   \n",
       "4  Flats/Maisonettes              29.0                       1   \n",
       "\n",
       "   number_heated_rooms  estimated_min_price  estimated_max_price   latitude  \\\n",
       "0                    1               103000               126000  52.164661   \n",
       "1                    1                36000                44000  52.523281   \n",
       "2                    1               187000               229000  51.386343   \n",
       "3                    1               234000               350000  51.416946   \n",
       "4                    1               185000               277000  52.915728   \n",
       "\n",
       "   longitude  bedrooms  \n",
       "0  -1.856154         0  \n",
       "1  -2.054445         0  \n",
       "2  -0.108323         0  \n",
       "3  -0.151787         2  \n",
       "4  -1.475258         1  "
      ]
     },
     "execution_count": 2,
     "metadata": {},
     "output_type": "execute_result"
    }
   ],
   "source": [
    "# Read JSON file\n",
    "bedrooms_df = pd.read_json(\"street_group_data_science_bedrooms_test.json\", lines=True)\n",
    "bedrooms_df.head()"
   ]
  },
  {
   "cell_type": "code",
   "execution_count": 3,
   "metadata": {},
   "outputs": [
    {
     "data": {
      "text/plain": [
       "3    449179\n",
       "2    281689\n",
       "4    159928\n",
       "1     57049\n",
       "5     38372\n",
       "6      8427\n",
       "0      2725\n",
       "7      1864\n",
       "8       595\n",
       "9       172\n",
       "Name: bedrooms, dtype: int64"
      ]
     },
     "execution_count": 3,
     "metadata": {},
     "output_type": "execute_result"
    }
   ],
   "source": [
    "# Unbalanced Data; the consequences are visible e.g. in classification_report or confusion_matrix\n",
    "bedrooms_df.bedrooms.value_counts()"
   ]
  },
  {
   "cell_type": "code",
   "execution_count": 4,
   "metadata": {},
   "outputs": [
    {
     "data": {
      "text/plain": [
       "(999936, 9)"
      ]
     },
     "execution_count": 4,
     "metadata": {},
     "output_type": "execute_result"
    }
   ],
   "source": [
    "# Exclude rows with unrealistic data; these conditions could be improved or left without changes\n",
    "bedrooms_df2 = bedrooms_df[(bedrooms_df['total_floor_area'] > 3)&(bedrooms_df['number_habitable_rooms']<30)]\n",
    "bedrooms_df2.shape"
   ]
  },
  {
   "cell_type": "code",
   "execution_count": 5,
   "metadata": {},
   "outputs": [
    {
     "data": {
      "text/html": [
       "<div>\n",
       "<style scoped>\n",
       "    .dataframe tbody tr th:only-of-type {\n",
       "        vertical-align: middle;\n",
       "    }\n",
       "\n",
       "    .dataframe tbody tr th {\n",
       "        vertical-align: top;\n",
       "    }\n",
       "\n",
       "    .dataframe thead th {\n",
       "        text-align: right;\n",
       "    }\n",
       "</style>\n",
       "<table border=\"1\" class=\"dataframe\">\n",
       "  <thead>\n",
       "    <tr style=\"text-align: right;\">\n",
       "      <th></th>\n",
       "      <th>total_floor_area</th>\n",
       "      <th>number_habitable_rooms</th>\n",
       "      <th>estimated_min_price</th>\n",
       "      <th>bedrooms</th>\n",
       "    </tr>\n",
       "  </thead>\n",
       "  <tbody>\n",
       "    <tr>\n",
       "      <th>0</th>\n",
       "      <td>39.0</td>\n",
       "      <td>1</td>\n",
       "      <td>103000</td>\n",
       "      <td>0</td>\n",
       "    </tr>\n",
       "    <tr>\n",
       "      <th>1</th>\n",
       "      <td>24.0</td>\n",
       "      <td>1</td>\n",
       "      <td>36000</td>\n",
       "      <td>0</td>\n",
       "    </tr>\n",
       "    <tr>\n",
       "      <th>2</th>\n",
       "      <td>25.0</td>\n",
       "      <td>1</td>\n",
       "      <td>187000</td>\n",
       "      <td>0</td>\n",
       "    </tr>\n",
       "    <tr>\n",
       "      <th>3</th>\n",
       "      <td>27.0</td>\n",
       "      <td>1</td>\n",
       "      <td>234000</td>\n",
       "      <td>2</td>\n",
       "    </tr>\n",
       "    <tr>\n",
       "      <th>4</th>\n",
       "      <td>29.0</td>\n",
       "      <td>1</td>\n",
       "      <td>185000</td>\n",
       "      <td>1</td>\n",
       "    </tr>\n",
       "  </tbody>\n",
       "</table>\n",
       "</div>"
      ],
      "text/plain": [
       "   total_floor_area  number_habitable_rooms  estimated_min_price  bedrooms\n",
       "0              39.0                       1               103000         0\n",
       "1              24.0                       1                36000         0\n",
       "2              25.0                       1               187000         0\n",
       "3              27.0                       1               234000         2\n",
       "4              29.0                       1               185000         1"
      ]
     },
     "execution_count": 5,
     "metadata": {},
     "output_type": "execute_result"
    }
   ],
   "source": [
    "# Features selection based on explonatory analysis\n",
    "bedrooms_df3 = bedrooms_df2[['total_floor_area', 'number_habitable_rooms','estimated_min_price','bedrooms']]\n",
    "bedrooms_df3.head()"
   ]
  },
  {
   "cell_type": "code",
   "execution_count": 6,
   "metadata": {},
   "outputs": [],
   "source": [
    "# The data after initial preparation\n",
    "X = bedrooms_df3.drop('bedrooms',axis=1)  # DataFrame with predictors values\n",
    "y = bedrooms_df3['bedrooms']              # pdSeries of class numbers"
   ]
  },
  {
   "cell_type": "code",
   "execution_count": 7,
   "metadata": {},
   "outputs": [
    {
     "data": {
      "text/html": [
       "<div>\n",
       "<style scoped>\n",
       "    .dataframe tbody tr th:only-of-type {\n",
       "        vertical-align: middle;\n",
       "    }\n",
       "\n",
       "    .dataframe tbody tr th {\n",
       "        vertical-align: top;\n",
       "    }\n",
       "\n",
       "    .dataframe thead th {\n",
       "        text-align: right;\n",
       "    }\n",
       "</style>\n",
       "<table border=\"1\" class=\"dataframe\">\n",
       "  <thead>\n",
       "    <tr style=\"text-align: right;\">\n",
       "      <th></th>\n",
       "      <th>total_floor_area</th>\n",
       "      <th>number_habitable_rooms</th>\n",
       "      <th>estimated_min_price</th>\n",
       "    </tr>\n",
       "  </thead>\n",
       "  <tbody>\n",
       "    <tr>\n",
       "      <th>24232</th>\n",
       "      <td>40.00</td>\n",
       "      <td>2</td>\n",
       "      <td>133000</td>\n",
       "    </tr>\n",
       "    <tr>\n",
       "      <th>479574</th>\n",
       "      <td>91.00</td>\n",
       "      <td>5</td>\n",
       "      <td>298000</td>\n",
       "    </tr>\n",
       "    <tr>\n",
       "      <th>38482</th>\n",
       "      <td>44.53</td>\n",
       "      <td>2</td>\n",
       "      <td>150000</td>\n",
       "    </tr>\n",
       "    <tr>\n",
       "      <th>314516</th>\n",
       "      <td>56.00</td>\n",
       "      <td>4</td>\n",
       "      <td>161000</td>\n",
       "    </tr>\n",
       "    <tr>\n",
       "      <th>406926</th>\n",
       "      <td>67.74</td>\n",
       "      <td>4</td>\n",
       "      <td>107000</td>\n",
       "    </tr>\n",
       "  </tbody>\n",
       "</table>\n",
       "</div>"
      ],
      "text/plain": [
       "        total_floor_area  number_habitable_rooms  estimated_min_price\n",
       "24232              40.00                       2               133000\n",
       "479574             91.00                       5               298000\n",
       "38482              44.53                       2               150000\n",
       "314516             56.00                       4               161000\n",
       "406926             67.74                       4               107000"
      ]
     },
     "execution_count": 7,
     "metadata": {},
     "output_type": "execute_result"
    }
   ],
   "source": [
    "X.sample(5)"
   ]
  },
  {
   "cell_type": "code",
   "execution_count": 8,
   "metadata": {},
   "outputs": [
    {
     "data": {
      "text/plain": [
       "110659    2\n",
       "337670    2\n",
       "185059    2\n",
       "788852    3\n",
       "449802    3\n",
       "Name: bedrooms, dtype: int64"
      ]
     },
     "execution_count": 8,
     "metadata": {},
     "output_type": "execute_result"
    }
   ],
   "source": [
    "y.sample(5)"
   ]
  },
  {
   "cell_type": "markdown",
   "metadata": {},
   "source": [
    "### Split into training and test datasets"
   ]
  },
  {
   "cell_type": "code",
   "execution_count": 9,
   "metadata": {},
   "outputs": [],
   "source": [
    "X_train, X_test, y_train, y_test = train_test_split(X, y, test_size=0.30,random_state=1 )"
   ]
  },
  {
   "cell_type": "markdown",
   "metadata": {},
   "source": [
    "### MODEL"
   ]
  },
  {
   "cell_type": "code",
   "execution_count": 10,
   "metadata": {},
   "outputs": [],
   "source": [
    "# The model definition\n",
    "xgb_classifier = OneVsRestClassifier(XGBClassifier(use_label_encoder=False, eval_metric='mlogloss'))"
   ]
  },
  {
   "cell_type": "markdown",
   "metadata": {},
   "source": [
    "### Fit the model"
   ]
  },
  {
   "cell_type": "code",
   "execution_count": 11,
   "metadata": {},
   "outputs": [
    {
     "data": {
      "text/plain": [
       "OneVsRestClassifier(estimator=XGBClassifier(base_score=None, booster=None,\n",
       "                                            colsample_bylevel=None,\n",
       "                                            colsample_bynode=None,\n",
       "                                            colsample_bytree=None,\n",
       "                                            enable_categorical=False,\n",
       "                                            eval_metric='mlogloss', gamma=None,\n",
       "                                            gpu_id=None, importance_type=None,\n",
       "                                            interaction_constraints=None,\n",
       "                                            learning_rate=None,\n",
       "                                            max_delta_step=None, max_depth=None,\n",
       "                                            min_child_weight=None, missing=nan,\n",
       "                                            monotone_constraints=None,\n",
       "                                            n_estimators=100, n_jobs=None,\n",
       "                                            num_parallel_tree=None,\n",
       "                                            predictor=None, random_state=None,\n",
       "                                            reg_alpha=None, reg_lambda=None,\n",
       "                                            scale_pos_weight=None,\n",
       "                                            subsample=None, tree_method=None,\n",
       "                                            use_label_encoder=False,\n",
       "                                            validate_parameters=None,\n",
       "                                            verbosity=None))"
      ]
     },
     "execution_count": 11,
     "metadata": {},
     "output_type": "execute_result"
    }
   ],
   "source": [
    "xgb_classifier.fit(X_train,y_train)"
   ]
  },
  {
   "cell_type": "markdown",
   "metadata": {},
   "source": [
    "### Generate predictions"
   ]
  },
  {
   "cell_type": "code",
   "execution_count": 12,
   "metadata": {},
   "outputs": [],
   "source": [
    "y_pred = xgb_classifier.predict(X_test)"
   ]
  },
  {
   "cell_type": "code",
   "execution_count": 13,
   "metadata": {},
   "outputs": [
    {
     "data": {
      "text/plain": [
       "array([3, 4, 4, ..., 3, 3, 4], dtype=int64)"
      ]
     },
     "execution_count": 13,
     "metadata": {},
     "output_type": "execute_result"
    }
   ],
   "source": [
    "y_pred"
   ]
  },
  {
   "cell_type": "markdown",
   "metadata": {},
   "source": [
    "### Evaluate model performance"
   ]
  },
  {
   "cell_type": "code",
   "execution_count": 14,
   "metadata": {},
   "outputs": [
    {
     "data": {
      "text/plain": [
       "0.7478473636663655"
      ]
     },
     "execution_count": 14,
     "metadata": {},
     "output_type": "execute_result"
    }
   ],
   "source": [
    "accuracy = accuracy_score(y_test, y_pred)\n",
    "accuracy"
   ]
  },
  {
   "cell_type": "code",
   "execution_count": 15,
   "metadata": {},
   "outputs": [
    {
     "name": "stdout",
     "output_type": "stream",
     "text": [
      "              precision    recall  f1-score   support\n",
      "\n",
      "           0       0.47      0.23      0.31       800\n",
      "           1       0.88      0.80      0.84     17217\n",
      "           2       0.84      0.73      0.78     84674\n",
      "           3       0.76      0.84      0.80    134667\n",
      "           4       0.61      0.66      0.63     47742\n",
      "           5       0.48      0.32      0.39     11518\n",
      "           6       0.32      0.09      0.14      2582\n",
      "           7       0.20      0.05      0.08       562\n",
      "           8       0.13      0.05      0.07       178\n",
      "           9       0.08      0.02      0.04        41\n",
      "\n",
      "    accuracy                           0.75    299981\n",
      "   macro avg       0.48      0.38      0.41    299981\n",
      "weighted avg       0.75      0.75      0.74    299981\n",
      "\n"
     ]
    }
   ],
   "source": [
    "print(classification_report(y_test,y_pred))"
   ]
  },
  {
   "cell_type": "code",
   "execution_count": 16,
   "metadata": {},
   "outputs": [
    {
     "name": "stdout",
     "output_type": "stream",
     "text": [
      "[[   185    442    105     50     14      4      0      0      0      0]\n",
      " [   176  13709   2460    639    190     35      4      1      2      1]\n",
      " [    14   1082  61672  21154    691     50     10      0      1      0]\n",
      " [     9    210   8725 113240  12150    296     24      6      5      2]\n",
      " [     4     55    358  13622  31528   2088     71      7      9      0]\n",
      " [     1      8     63    923   6511   3739    232     26     14      1]\n",
      " [     1      8     28    139    831   1289    230     39     13      4]\n",
      " [     0      3      3     28    121    258    108     27     12      2]\n",
      " [     0      2      2     10     32     63     40     19      9      1]\n",
      " [     0      1      1      1      8     11      7      7      4      1]]\n"
     ]
    }
   ],
   "source": [
    "print(confusion_matrix(y_test,y_pred))"
   ]
  },
  {
   "cell_type": "markdown",
   "metadata": {},
   "source": [
    "### END"
   ]
  },
  {
   "cell_type": "markdown",
   "metadata": {},
   "source": [
    "* Ensemble of Binary Classifiers (One-vs-Rest). \n",
    "Even with balanced data and a fine-tuned model, most classifiers are limited to distinguishing between a handful of classes well (they will start to struggle when the number of classes becomes very high). Therefore, if you have a lot of classes, instead of training a single classifier, you can train multiple binary classifiers (one for each class / one-vs-rest) - which is easier for each classifier to learn. Then combine each of the classifiers’ binary outputs to generate multi-class outputs."
   ]
  },
  {
   "cell_type": "markdown",
   "metadata": {},
   "source": [
    "* One-vs-rest xgboost classifiers (Gradient boosting is similar to a random forest in that it uses the results of many decision trees. However, in a random forest, trees are grown in parallel but are random and unrelated to each other. Each tree is grown very deep to overfit a specific part of the training data — however, in the end, all the trees’ errors cancel out when combined as different trees in the forest will overfit in different ways and thus voting averages these differences out. With boosting, however, only very shallow trees are carefully grown to find general patterns in the data. One tree is added in turn to improve / boost the already trained ensemble of trees).\n"
   ]
  }
 ],
 "metadata": {
  "kernelspec": {
   "display_name": "Python 3",
   "language": "python",
   "name": "python3"
  },
  "language_info": {
   "codemirror_mode": {
    "name": "ipython",
    "version": 3
   },
   "file_extension": ".py",
   "mimetype": "text/x-python",
   "name": "python",
   "nbconvert_exporter": "python",
   "pygments_lexer": "ipython3",
   "version": "3.7.9"
  }
 },
 "nbformat": 4,
 "nbformat_minor": 4
}
